{
 "cells": [
  {
   "cell_type": "code",
   "execution_count": null,
   "metadata": {},
   "outputs": [],
   "source": [
    "from azureml.core import Workspace , Datastore , Dataset"
   ]
  },
  {
   "cell_type": "code",
   "execution_count": null,
   "metadata": {},
   "outputs": [],
   "source": [
    "from azureml.pipeline.steps import PythonScriptStep\n",
    "from azureml.pipeline.core import PipelineData\n"
   ]
  },
  {
   "cell_type": "code",
   "execution_count": null,
   "metadata": {},
   "outputs": [],
   "source": [
    "ws = Workspace.from_config(path=\"./config/\")\n",
    "ws"
   ]
  },
  {
   "cell_type": "code",
   "execution_count": null,
   "metadata": {},
   "outputs": [],
   "source": [
    "ws = Workspace(workspace_name='Azure_ml_ws_db_001',\n",
    "               subscription_id=\"put your subscription id\",\n",
    "               resource_group='Azure_RG_DB_001')"
   ]
  },
  {
   "cell_type": "code",
   "execution_count": null,
   "metadata": {},
   "outputs": [],
   "source": [
    "# create a Datastore\n",
    "\n",
    "az_store = Datastore.register_azure_blob_container(\n",
    "    workspace=ws,\n",
    "    datastore_name='DS name',\n",
    "    account_name='account name',\n",
    "    container_name='container name',\n",
    "    account_key='put your account key'\n",
    ")"
   ]
  },
  {
   "cell_type": "code",
   "execution_count": null,
   "metadata": {},
   "outputs": [],
   "source": [
    "# get a dctionary of all the workspace\n",
    "ws_list = Workspace.list(subscription_id=\"put your subscription id\")\n",
    "ws_list"
   ]
  },
  {
   "cell_type": "code",
   "execution_count": null,
   "metadata": {},
   "outputs": [],
   "source": [
    "## get the defaul data store\n",
    "az_default_store = ws.get_default_datastore()\n",
    "az_default_store\n"
   ]
  },
  {
   "cell_type": "code",
   "execution_count": null,
   "metadata": {},
   "outputs": [],
   "source": [
    "#===============================\n",
    "# list all the datastores\n",
    "#===============================\n",
    "\n",
    "store_list = list(ws.datastores)\n",
    "store_list"
   ]
  },
  {
   "cell_type": "code",
   "execution_count": null,
   "metadata": {},
   "outputs": [],
   "source": []
  },
  {
   "cell_type": "code",
   "execution_count": null,
   "metadata": {},
   "outputs": [],
   "source": [
    "####################################\n",
    "##### upload a local file to azure datasets\n",
    "########################################\n",
    "\n",
    "files_path = [\"/Users/soumyajitpal/codes/Azure-ml/loan.csv\"]\n",
    "\n",
    "az_store.upload_files(\n",
    "    files = files_path,\n",
    "    target_path=\"Loan Data/\",\n",
    "    overwrite=True\n",
    ")\n"
   ]
  },
  {
   "cell_type": "code",
   "execution_count": null,
   "metadata": {},
   "outputs": [],
   "source": [
    "#################################\n",
    "#### upload folder or a directory\n",
    "#################################\n",
    "\n",
    "az_store.upload(src_dir=\"directory path\",\n",
    "                target_path=\"where to store\",)"
   ]
  },
  {
   "cell_type": "code",
   "execution_count": null,
   "metadata": {},
   "outputs": [],
   "source": [
    "# Access Datastore\n",
    "az_store = Datastore.get(ws,\"azure_sdk_blob1\")\n",
    "\n",
    "# crate the path of the csv file\n",
    "csv_path = [(az_store, \"Loan Data/loan.csv\")]\n",
    "\n",
    "loan_dataset = Dataset.Tabular.from_delimited_files(path=csv_path)\n",
    "\n",
    "loan_dataset = loan_dataset.register(workspace=ws,\n",
    "                                     name=\"loan price applcations using sdk\",\n",
    "                                     create_new_version=True)\n"
   ]
  },
  {
   "cell_type": "code",
   "execution_count": null,
   "metadata": {},
   "outputs": [],
   "source": [
    "input_ds = ws.datasets.get('loan price applcations using sdk')\n",
    "input_ds.to_pandas_dataframe()\n"
   ]
  },
  {
   "cell_type": "code",
   "execution_count": null,
   "metadata": {},
   "outputs": [],
   "source": [
    "ws.datastores.get('azure_sdk_blob1')"
   ]
  },
  {
   "cell_type": "code",
   "execution_count": null,
   "metadata": {},
   "outputs": [],
   "source": [
    "# Retieve All Models\n",
    "from azureml.core import Model\n",
    "\n",
    "print(Model.list(ws))\n",
    "\n",
    "for model in Model.list(ws):\n",
    "    print('\\n',model.name,'version:',model.version)\n",
    "    print('\\t','Run_ID:',model.run_id)\n",
    "\n",
    "    for prop_name in model.properties:\n",
    "        prop = model.properties[prop_name]\n",
    "        print(\"\\t\",prop_name,\":\",prop)\n",
    "\n",
    "    for tags in model.tags:\n",
    "        tag = model.tags[tags]\n",
    "        print('\\t',tags,':',tag)\n"
   ]
  },
  {
   "cell_type": "code",
   "execution_count": null,
   "metadata": {},
   "outputs": [],
   "source": []
  },
  {
   "cell_type": "code",
   "execution_count": null,
   "metadata": {},
   "outputs": [],
   "source": [
    "########################################\n",
    "#### list datasets from a workspace\n",
    "########################################\n",
    "\n",
    "datasets = ws.datasets\n",
    "print(datasets)\n",
    "ds_list = list(ws.datasets.keys())\n",
    "ds_list"
   ]
  },
  {
   "cell_type": "code",
   "execution_count": null,
   "metadata": {},
   "outputs": [],
   "source": [
    "##########################################\n",
    "### get the dataset from a workspace\n",
    "############################################\n",
    "\n",
    "az_dataset = Dataset.get_by_name(ws,name=)"
   ]
  },
  {
   "cell_type": "code",
   "execution_count": null,
   "metadata": {},
   "outputs": [],
   "source": []
  }
 ],
 "metadata": {
  "kernelspec": {
   "display_name": "azure_test_env",
   "language": "python",
   "name": "python3"
  },
  "language_info": {
   "codemirror_mode": {
    "name": "ipython",
    "version": 3
   },
   "file_extension": ".py",
   "mimetype": "text/x-python",
   "name": "python",
   "nbconvert_exporter": "python",
   "pygments_lexer": "ipython3",
   "version": "3.9.17"
  },
  "orig_nbformat": 4
 },
 "nbformat": 4,
 "nbformat_minor": 2
}
